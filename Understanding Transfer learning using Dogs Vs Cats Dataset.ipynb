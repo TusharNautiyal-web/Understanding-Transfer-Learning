{
 "cells": [
  {
   "cell_type": "markdown",
   "id": "f2864f1a",
   "metadata": {},
   "source": [
    "# What is Transfer Learning \n",
    "\n",
    "**Transfer learning** is the reuse of a **pre-trained model** on a new problem. It’s currently very popular in deep learning because it can train deep neural networks with comparatively little data. This is very useful in the data science field since most real-world problems typically do not have millions of labeled data points to train such complex models.\n",
    "\n",
    "# Why Transfer Learning? \n",
    "1. Saves Data\n",
    "2. Models Trained using this method are more accurate\n",
    "3. Saves a lot of time and computer processing\n"
   ]
  },
  {
   "cell_type": "markdown",
   "id": "98a58779",
   "metadata": {},
   "source": [
    "To download Dataset Follow the link : <a href = 'https://www.kaggle.com/datasets/salader/dogs-vs-cats'>Kaggle</a>"
   ]
  },
  {
   "cell_type": "markdown",
   "id": "bd334c1e",
   "metadata": {},
   "source": [
    "Let's Start With Importing important modules"
   ]
  },
  {
   "cell_type": "code",
   "execution_count": 4,
   "id": "9eba624b",
   "metadata": {},
   "outputs": [],
   "source": [
    "import tensorflow \n",
    "import matplotlib.pyplot as plt\n",
    "import pandas as pd \n",
    "import numpy as np \n",
    "from tensorflow.keras import Sequential\n",
    "from tensorflow.keras.layers import Dense,Flatten \n",
    "from keras.applications.vgg16 import VGG16"
   ]
  },
  {
   "cell_type": "markdown",
   "id": "8d902e58",
   "metadata": {},
   "source": [
    "<img src = \"https://media.geeksforgeeks.org/wp-content/uploads/20200219152327/conv-layers-vgg16.jpg\"/>"
   ]
  },
  {
   "cell_type": "markdown",
   "id": "84bace9f",
   "metadata": {},
   "source": [
    "# For Transfer Learning There Are two ways you can do it. \n",
    "\n",
    "1. We can exclude the **last layers** And add our own but in this method we are expecting that our data is already trained over with the inputs that we are giving (in imagenet data dog, and cat labels are already there in the training of VGG16) our data hence we don't need to extract any features using cnn layers so we can freeze them, This method is knowns as **feature extraction**.\n",
    "\n",
    "2. We can **Fine Tune** Our model, in this method we don't **freeze** all CNN layers like we can incude layers Conv5-1,conv5-2,conv5-3,pooling in training with dense layers. Usually **Fine Tuning** is used when our pre-trained model has some similar data but not completely similar for eg image net maybe not trained over phone - tablet data so using Fine tuning we can train our models few layers to get good accuracy for our models."
   ]
  },
  {
   "cell_type": "markdown",
   "id": "588f66ad",
   "metadata": {},
   "source": [
    "# First Method of Transfer Learning"
   ]
  },
  {
   "cell_type": "code",
   "execution_count": 34,
   "id": "9ef63dfa",
   "metadata": {},
   "outputs": [],
   "source": [
    "# include top = False Means Removing Dense Layers hence we will be adding our own layers \n",
    "all_layers = VGG16(\n",
    "    include_top = False,\n",
    "    input_shape=(150,150,3)\n",
    ")"
   ]
  },
  {
   "cell_type": "code",
   "execution_count": 35,
   "id": "86cf1063",
   "metadata": {},
   "outputs": [],
   "source": [
    "# Lets create a model\n",
    "model = Sequential()\n",
    "model.add(all_layers)\n",
    "model.add(Flatten())\n",
    "model.add(Dense(256,activation='relu'))\n",
    "model.add(Dense(1,activation='sigmoid'))"
   ]
  },
  {
   "cell_type": "code",
   "execution_count": 36,
   "id": "295d9811",
   "metadata": {},
   "outputs": [],
   "source": [
    "# Lets Try First Method Freezing All Trainable layers and only changing Dense Layers.\n",
    "all_layers.trainable = False"
   ]
  },
  {
   "cell_type": "code",
   "execution_count": 37,
   "id": "011a1165",
   "metadata": {},
   "outputs": [
    {
     "name": "stdout",
     "output_type": "stream",
     "text": [
      "Found 20000 images belonging to 2 classes.\n",
      "Found 5000 images belonging to 2 classes.\n"
     ]
    }
   ],
   "source": [
    "# Lets do data augmentation For lowering overfiting and increasing accuracy.\n",
    "from tensorflow import keras\n",
    "from keras.preprocessing.image import ImageDataGenerator\n",
    "train_datagen = ImageDataGenerator(\n",
    "                rescale = 1./255,\n",
    "                shear_range = 0.2,\n",
    "                zoom_range = 0.2,\n",
    "                horizontal_flip = True\n",
    "                    )\n",
    "test_datagen = ImageDataGenerator(rescale = 1./255)\n",
    "# classmode = binary because we have only 2 labels\n",
    "train_generator  = train_datagen.flow_from_directory('train',\n",
    "                                                    target_size = (150,150),\n",
    "                                                     batch_size = 32,\n",
    "                                                    class_mode = 'binary'\n",
    "                                                    )\n",
    "validation_generator  = test_datagen.flow_from_directory('test',\n",
    "                                                    target_size = (150,150),\n",
    "                                                     batch_size = 32,\n",
    "                                                    class_mode = 'binary'\n",
    "                                                    )"
   ]
  },
  {
   "cell_type": "code",
   "execution_count": 38,
   "id": "ca42d8bd",
   "metadata": {},
   "outputs": [],
   "source": [
    "model.compile(optimizer='adam',loss='binary_crossentropy',metrics=['accuracy'])"
   ]
  },
  {
   "cell_type": "code",
   "execution_count": 39,
   "id": "7b18e857",
   "metadata": {},
   "outputs": [
    {
     "name": "stdout",
     "output_type": "stream",
     "text": [
      "Model: \"sequential_1\"\n",
      "_________________________________________________________________\n",
      " Layer (type)                Output Shape              Param #   \n",
      "=================================================================\n",
      " vgg16 (Functional)          (None, 4, 4, 512)         14714688  \n",
      "                                                                 \n",
      " flatten_1 (Flatten)         (None, 8192)              0         \n",
      "                                                                 \n",
      " dense_2 (Dense)             (None, 256)               2097408   \n",
      "                                                                 \n",
      " dense_3 (Dense)             (None, 1)                 257       \n",
      "                                                                 \n",
      "=================================================================\n",
      "Total params: 16,812,353\n",
      "Trainable params: 2,097,665\n",
      "Non-trainable params: 14,714,688\n",
      "_________________________________________________________________\n"
     ]
    }
   ],
   "source": [
    "model.summary()"
   ]
  },
  {
   "cell_type": "code",
   "execution_count": 40,
   "id": "95d9ad41",
   "metadata": {},
   "outputs": [
    {
     "name": "stdout",
     "output_type": "stream",
     "text": [
      "Epoch 1/5\n",
      "625/625 [==============================] - 706s 1s/step - loss: 0.3125 - accuracy: 0.8637 - val_loss: 0.2104 - val_accuracy: 0.9120\n",
      "Epoch 2/5\n",
      "625/625 [==============================] - 729s 1s/step - loss: 0.2370 - accuracy: 0.8995 - val_loss: 0.2189 - val_accuracy: 0.9066\n",
      "Epoch 3/5\n",
      "625/625 [==============================] - 726s 1s/step - loss: 0.2196 - accuracy: 0.9044 - val_loss: 0.2215 - val_accuracy: 0.9034\n",
      "Epoch 4/5\n",
      "625/625 [==============================] - 726s 1s/step - loss: 0.2104 - accuracy: 0.9111 - val_loss: 0.1928 - val_accuracy: 0.9160\n",
      "Epoch 5/5\n",
      "625/625 [==============================] - 748s 1s/step - loss: 0.1979 - accuracy: 0.9163 - val_loss: 0.2184 - val_accuracy: 0.9060\n"
     ]
    }
   ],
   "source": [
    "history = model.fit(\n",
    "        train_generator,\n",
    "        epochs=5,\n",
    "        validation_data=validation_generator)"
   ]
  },
  {
   "cell_type": "code",
   "execution_count": 41,
   "id": "e3f4bdfa",
   "metadata": {},
   "outputs": [
    {
     "data": {
      "image/png": "[encoded data removed]",
      "text/plain": [
       "<Figure size 432x288 with 1 Axes>"
      ]
     },
     "metadata": {
      "needs_background": "light"
     },
     "output_type": "display_data"
    }
   ],
   "source": [
    "import matplotlib.pyplot as plt\n",
    "\n",
    "plt.plot(history.history['accuracy'],color='red',label='train')\n",
    "plt.plot(history.history['val_accuracy'],color='blue',label='validation')\n",
    "plt.legend()\n",
    "plt.show()"
   ]
  },
  {
   "cell_type": "code",
   "execution_count": 42,
   "id": "59112cc2",
   "metadata": {},
   "outputs": [
    {
     "data": {
      "image/png": "[encoded data removed]",
      "text/plain": [
       "<Figure size 432x288 with 1 Axes>"
      ]
     },
     "metadata": {
      "needs_background": "light"
     },
     "output_type": "display_data"
    }
   ],
   "source": [
    "plt.plot(history.history['loss'],color='red',label='train')\n",
    "plt.plot(history.history['val_loss'],color='blue',label='validation')\n",
    "plt.legend()\n",
    "plt.show()"
   ]
  },
  {
   "cell_type": "markdown",
   "id": "e0d715ad",
   "metadata": {},
   "source": [
    "# The other method is Fine Tuning\n",
    "now this will take more time as layers will get trained so let's start working on it."
   ]
  },
  {
   "cell_type": "code",
   "execution_count": 51,
   "id": "dafb0e63",
   "metadata": {},
   "outputs": [],
   "source": [
    "conv_base = VGG16(\n",
    "    weights='imagenet',\n",
    "    include_top = False,\n",
    "    input_shape=(150,150,3)\n",
    ")"
   ]
  },
  {
   "cell_type": "markdown",
   "id": "6bbcfe23",
   "metadata": {},
   "source": [
    "<img src = \"https://media.geeksforgeeks.org/wp-content/uploads/20200219152327/conv-layers-vgg16.jpg\"/>"
   ]
  },
  {
   "cell_type": "markdown",
   "id": "54e82c8b",
   "metadata": {},
   "source": [
    "Now we will freeze all other layers expect the 5th block of our VGG16 model which we will train and add dense layers to get better result this process is fine tuning."
   ]
  },
  {
   "cell_type": "code",
   "execution_count": 52,
   "id": "9a87d352",
   "metadata": {},
   "outputs": [
    {
     "name": "stdout",
     "output_type": "stream",
     "text": [
      "Model: \"vgg16\"\n",
      "_________________________________________________________________\n",
      " Layer (type)                Output Shape              Param #   \n",
      "=================================================================\n",
      " input_4 (InputLayer)        [(None, 150, 150, 3)]     0         \n",
      "                                                                 \n",
      " block1_conv1 (Conv2D)       (None, 150, 150, 64)      1792      \n",
      "                                                                 \n",
      " block1_conv2 (Conv2D)       (None, 150, 150, 64)      36928     \n",
      "                                                                 \n",
      " block1_pool (MaxPooling2D)  (None, 75, 75, 64)        0         \n",
      "                                                                 \n",
      " block2_conv1 (Conv2D)       (None, 75, 75, 128)       73856     \n",
      "                                                                 \n",
      " block2_conv2 (Conv2D)       (None, 75, 75, 128)       147584    \n",
      "                                                                 \n",
      " block2_pool (MaxPooling2D)  (None, 37, 37, 128)       0         \n",
      "                                                                 \n",
      " block3_conv1 (Conv2D)       (None, 37, 37, 256)       295168    \n",
      "                                                                 \n",
      " block3_conv2 (Conv2D)       (None, 37, 37, 256)       590080    \n",
      "                                                                 \n",
      " block3_conv3 (Conv2D)       (None, 37, 37, 256)       590080    \n",
      "                                                                 \n",
      " block3_pool (MaxPooling2D)  (None, 18, 18, 256)       0         \n",
      "                                                                 \n",
      " block4_conv1 (Conv2D)       (None, 18, 18, 512)       1180160   \n",
      "                                                                 \n",
      " block4_conv2 (Conv2D)       (None, 18, 18, 512)       2359808   \n",
      "                                                                 \n",
      " block4_conv3 (Conv2D)       (None, 18, 18, 512)       2359808   \n",
      "                                                                 \n",
      " block4_pool (MaxPooling2D)  (None, 9, 9, 512)         0         \n",
      "                                                                 \n",
      " block5_conv1 (Conv2D)       (None, 9, 9, 512)         2359808   \n",
      "                                                                 \n",
      " block5_conv2 (Conv2D)       (None, 9, 9, 512)         2359808   \n",
      "                                                                 \n",
      " block5_conv3 (Conv2D)       (None, 9, 9, 512)         2359808   \n",
      "                                                                 \n",
      " block5_pool (MaxPooling2D)  (None, 4, 4, 512)         0         \n",
      "                                                                 \n",
      "=================================================================\n",
      "Total params: 14,714,688\n",
      "Trainable params: 14,714,688\n",
      "Non-trainable params: 0\n",
      "_________________________________________________________________\n"
     ]
    }
   ],
   "source": [
    "# To check all the layers we have we can see and we can just activate one block to train\n",
    "conv_base.summary()"
   ]
  },
  {
   "cell_type": "code",
   "execution_count": 53,
   "id": "3d7766ff",
   "metadata": {},
   "outputs": [
    {
     "name": "stdout",
     "output_type": "stream",
     "text": [
      "input_4 False\n",
      "block1_conv1 False\n",
      "block1_conv2 False\n",
      "block1_pool False\n",
      "block2_conv1 False\n",
      "block2_conv2 False\n",
      "block2_pool False\n",
      "block3_conv1 False\n",
      "block3_conv2 False\n",
      "block3_conv3 False\n",
      "block3_pool False\n",
      "block4_conv1 False\n",
      "block4_conv2 False\n",
      "block4_conv3 False\n",
      "block4_pool False\n",
      "block5_conv1 True\n",
      "block5_conv2 True\n",
      "block5_conv3 True\n",
      "block5_pool True\n"
     ]
    }
   ],
   "source": [
    "conv_base.trainable = True\n",
    "set_trainable = False\n",
    "for layer in conv_base.layers:\n",
    "    if layer.name == 'block5_conv1':\n",
    "        set_trainable = True\n",
    "    if set_trainable:\n",
    "        layer.trainable = True\n",
    "    else:\n",
    "        layer.trainable = False\n",
    "\n",
    "for layer in conv_base.layers:\n",
    "    print(layer.name,layer.trainable)"
   ]
  },
  {
   "cell_type": "code",
   "execution_count": 54,
   "id": "57527d57",
   "metadata": {},
   "outputs": [
    {
     "name": "stdout",
     "output_type": "stream",
     "text": [
      "Found 20000 files belonging to 2 classes.\n",
      "Found 5000 files belonging to 2 classes.\n"
     ]
    }
   ],
   "source": [
    "train_ds = keras.utils.image_dataset_from_directory(\n",
    "    directory = 'train',\n",
    "    labels='inferred',\n",
    "    label_mode = 'int',\n",
    "    batch_size=32,\n",
    "    image_size=(150,150)\n",
    ")\n",
    "\n",
    "validation_ds = keras.utils.image_dataset_from_directory(\n",
    "    directory = 'test',\n",
    "    labels='inferred',\n",
    "    label_mode = 'int',\n",
    "    batch_size=32,\n",
    "    image_size=(150,150)\n",
    ")"
   ]
  },
  {
   "cell_type": "code",
   "execution_count": 55,
   "id": "899c6509",
   "metadata": {},
   "outputs": [],
   "source": [
    "# Normalization to 0 and 1.\n",
    "def process(image,label):\n",
    "    image = tensorflow.cast(image/255. ,tensorflow.float32)\n",
    "    return image,label\n",
    "\n",
    "train_ds = train_ds.map(process)\n",
    "validation_ds = validation_ds.map(process)"
   ]
  },
  {
   "cell_type": "code",
   "execution_count": 56,
   "id": "7c372d33",
   "metadata": {},
   "outputs": [],
   "source": [
    "model = Sequential()\n",
    "model.add(conv_base)\n",
    "model.add(Flatten())\n",
    "model.add(Dense(256,activation='relu'))\n",
    "model.add(Dense(1,activation='sigmoid'))"
   ]
  },
  {
   "cell_type": "code",
   "execution_count": 57,
   "id": "461cb350",
   "metadata": {},
   "outputs": [
    {
     "name": "stderr",
     "output_type": "stream",
     "text": [
      "C:\\Users\\tushar nautiyal\\AppData\\Local\\Programs\\Python\\Python39\\lib\\site-packages\\keras\\optimizers\\optimizer_v2\\rmsprop.py:135: UserWarning: The `lr` argument is deprecated, use `learning_rate` instead.\n",
      "  super(RMSprop, self).__init__(name, **kwargs)\n"
     ]
    }
   ],
   "source": [
    "model.compile(\n",
    "    optimizer=keras.optimizers.RMSprop(lr=1e-5),\n",
    "    loss='binary_crossentropy',\n",
    "    metrics=['accuracy']\n",
    "  )"
   ]
  },
  {
   "cell_type": "code",
   "execution_count": 58,
   "id": "2d95b7da",
   "metadata": {},
   "outputs": [
    {
     "name": "stdout",
     "output_type": "stream",
     "text": [
      "Epoch 1/10\n",
      "625/625 [==============================] - 898s 1s/step - loss: 0.2340 - accuracy: 0.9019 - val_loss: 0.1623 - val_accuracy: 0.9340\n",
      "Epoch 2/10\n",
      "625/625 [==============================] - 959s 2s/step - loss: 0.1303 - accuracy: 0.9481 - val_loss: 0.1362 - val_accuracy: 0.9464\n",
      "Epoch 3/10\n",
      "625/625 [==============================] - 894s 1s/step - loss: 0.0900 - accuracy: 0.9667 - val_loss: 0.1271 - val_accuracy: 0.9484\n",
      "Epoch 4/10\n",
      "625/625 [==============================] - 896s 1s/step - loss: 0.0622 - accuracy: 0.9797 - val_loss: 0.1278 - val_accuracy: 0.9502\n",
      "Epoch 5/10\n",
      "625/625 [==============================] - 896s 1s/step - loss: 0.0410 - accuracy: 0.9875 - val_loss: 0.1311 - val_accuracy: 0.9514\n",
      "Epoch 6/10\n",
      "625/625 [==============================] - 896s 1s/step - loss: 0.0266 - accuracy: 0.9929 - val_loss: 0.1520 - val_accuracy: 0.9494\n",
      "Epoch 7/10\n",
      "625/625 [==============================] - 895s 1s/step - loss: 0.0163 - accuracy: 0.9961 - val_loss: 0.2577 - val_accuracy: 0.9304\n",
      "Epoch 8/10\n",
      "625/625 [==============================] - 894s 1s/step - loss: 0.0100 - accuracy: 0.9980 - val_loss: 0.1731 - val_accuracy: 0.9528\n",
      "Epoch 9/10\n",
      "625/625 [==============================] - 893s 1s/step - loss: 0.0062 - accuracy: 0.9983 - val_loss: 0.1958 - val_accuracy: 0.9516\n",
      "Epoch 10/10\n",
      "625/625 [==============================] - 896s 1s/step - loss: 0.0044 - accuracy: 0.9989 - val_loss: 0.1929 - val_accuracy: 0.9522\n"
     ]
    }
   ],
   "source": [
    "# generators\n",
    "# We can use the same generators as previous one for this code.\n",
    "history = model.fit(train_ds,epochs=10,validation_data=validation_ds)"
   ]
  },
  {
   "cell_type": "code",
   "execution_count": 59,
   "id": "c03d7332",
   "metadata": {},
   "outputs": [
    {
     "data": {
      "image/png": "[encoded data removed]",
      "text/plain": [
       "<Figure size 432x288 with 1 Axes>"
      ]
     },
     "metadata": {
      "needs_background": "light"
     },
     "output_type": "display_data"
    }
   ],
   "source": [
    "plt.plot(history.history['accuracy'],color='red',label='train')\n",
    "plt.plot(history.history['val_accuracy'],color='blue',label='validation')\n",
    "plt.legend()\n",
    "plt.show()"
   ]
  },
  {
   "cell_type": "code",
   "execution_count": 60,
   "id": "f3c7f0f0",
   "metadata": {},
   "outputs": [
    {
     "data": {
      "image/png": "[encoded data removed]",
      "text/plain": [
       "<Figure size 432x288 with 1 Axes>"
      ]
     },
     "metadata": {
      "needs_background": "light"
     },
     "output_type": "display_data"
    }
   ],
   "source": [
    "plt.plot(history.history['loss'],color='red',label='train')\n",
    "plt.plot(history.history['val_loss'],color='blue',label='validation')\n",
    "plt.legend()\n",
    "plt.show()"
   ]
  },
  {
   "cell_type": "code",
   "execution_count": null,
   "id": "ec8f74fd",
   "metadata": {},
   "outputs": [],
   "source": []
  }
 ],
 "metadata": {
  "kernelspec": {
   "display_name": "Python 3 (ipykernel)",
   "language": "python",
   "name": "python3"
  },
  "language_info": {
   "codemirror_mode": {
    "name": "ipython",
    "version": 3
   },
   "file_extension": ".py",
   "mimetype": "text/x-python",
   "name": "python",
   "nbconvert_exporter": "python",
   "pygments_lexer": "ipython3",
   "version": "3.9.7"
  }
 },
 "nbformat": 4,
 "nbformat_minor": 5
}
